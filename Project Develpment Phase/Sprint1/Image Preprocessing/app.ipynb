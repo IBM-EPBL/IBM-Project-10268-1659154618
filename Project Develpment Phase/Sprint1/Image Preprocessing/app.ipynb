{
  "nbformat": 4,
  "nbformat_minor": 0,
  "metadata": {
    "colab": {
      "provenance": []
    },
    "kernelspec": {
      "name": "python3",
      "display_name": "Python 3"
    },
    "language_info": {
      "name": "python"
    }
  },
  "cells": [
    {
      "cell_type": "markdown",
      "source": [
        "Team id :PNT2022TMID04889\n",
        "\n",
        "\n",
        "AI Powered Nutrition Analyzer For Fitness Enthusiasts\n",
        "\n",
        "\n",
        "\n",
        "Download dataset here [dataset](https://drive.google.com/file/d/1B57YP6XC0yOaS36njI3yjDnfUtYzHtlB/view?usp=share_link)"
      ],
      "metadata": {
        "id": "G38DzkTHX9PS"
      }
    },
    {
      "cell_type": "markdown",
      "source": [
        "**Data Collection**"
      ],
      "metadata": {
        "id": "O2z9wZX5aLA8"
      }
    },
    {
      "cell_type": "code",
      "source": [
        "from google.colab import drive\n",
        "drive.mount('/content/drive')"
      ],
      "metadata": {
        "colab": {
          "base_uri": "https://localhost:8080/"
        },
        "id": "HS9etwEPYTv3",
        "outputId": "4702386f-1f17-4585-ff8f-ed2fb5f0e2ca"
      },
      "execution_count": null,
      "outputs": [
        {
          "output_type": "stream",
          "name": "stdout",
          "text": [
            "Mounted at /content/drive\n"
          ]
        }
      ]
    },
    {
      "cell_type": "code",
      "source": [
        "!unzip '/content/drive/MyDrive/IBM/Dataset.zip'"
      ],
      "metadata": {
        "id": "YSi2DYIMY26x"
      },
      "execution_count": null,
      "outputs": []
    },
    {
      "cell_type": "markdown",
      "source": [
        "**Image Preprocessing**"
      ],
      "metadata": {
        "id": "9Ejayu_jfADD"
      }
    },
    {
      "cell_type": "markdown",
      "source": [
        "Import The ImageDataGenerator Library"
      ],
      "metadata": {
        "id": "HOivuJWkfIT2"
      }
    },
    {
      "cell_type": "code",
      "source": [
        "from keras.preprocessing.image import ImageDataGenerator"
      ],
      "metadata": {
        "id": "66dZTVV5fOfh"
      },
      "execution_count": 3,
      "outputs": []
    },
    {
      "cell_type": "markdown",
      "source": [
        "Configure ImageDataGenerator Class"
      ],
      "metadata": {
        "id": "F3KFZe6qfpgD"
      }
    },
    {
      "cell_type": "code",
      "source": [
        "train_datagen=ImageDataGenerator(rescale=1./255,shear_range=0.2,zoom_range=0.2,horizontal_flip=True)\n",
        "test_datagen = ImageDataGenerator(rescale=1./255)"
      ],
      "metadata": {
        "id": "CdV_ZZRlfqhV"
      },
      "execution_count": 4,
      "outputs": []
    },
    {
      "cell_type": "markdown",
      "source": [
        "Apply Image DataGenerator Functionality To Trainset And Testset"
      ],
      "metadata": {
        "id": "5vXIqPI5fyI_"
      }
    },
    {
      "cell_type": "code",
      "source": [
        "x_train = train_datagen.flow_from_directory('/content/drive/MyDrive/IBM/Dataset/TRAIN_SET',target_size=(64,64),batch_size=5,color_mode='rgb',class_mode='sparse')"
      ],
      "metadata": {
        "colab": {
          "base_uri": "https://localhost:8080/"
        },
        "id": "hhiIGP6RgMEc",
        "outputId": "1ab8ce1d-7f5b-4ada-a93a-d19260cb1502"
      },
      "execution_count": 7,
      "outputs": [
        {
          "output_type": "stream",
          "name": "stdout",
          "text": [
            "Found 2193 images belonging to 5 classes.\n"
          ]
        }
      ]
    },
    {
      "cell_type": "code",
      "source": [
        "x_test = train_datagen.flow_from_directory('/content/drive/MyDrive/IBM/Dataset/TEST_SET',target_size=(64,64),batch_size=5,color_mode='rgb',class_mode='sparse')"
      ],
      "metadata": {
        "colab": {
          "base_uri": "https://localhost:8080/"
        },
        "id": "z7NxLLwWhOae",
        "outputId": "f6f12784-9a4d-44a1-ed65-cca062be1dde"
      },
      "execution_count": 8,
      "outputs": [
        {
          "output_type": "stream",
          "name": "stdout",
          "text": [
            "Found 1055 images belonging to 5 classes.\n"
          ]
        }
      ]
    }
  ]
}