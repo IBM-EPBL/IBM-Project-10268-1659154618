{
  "nbformat": 4,
  "nbformat_minor": 0,
  "metadata": {
    "colab": {
      "provenance": []
    },
    "kernelspec": {
      "name": "python3",
      "display_name": "Python 3"
    },
    "language_info": {
      "name": "python"
    }
  },
  "cells": [
    {
      "cell_type": "markdown",
      "source": [
        "Team id :PNT2022TMID04889\n",
        "\n",
        "\n",
        "AI Powered Nutrition Analyzer For Fitness Enthusiasts\n",
        "\n",
        "\n",
        "\n",
        "Download dataset here [dataset](https://drive.google.com/file/d/1B57YP6XC0yOaS36njI3yjDnfUtYzHtlB/view?usp=share_link)"
      ],
      "metadata": {
        "id": "G38DzkTHX9PS"
      }
    },
    {
      "cell_type": "markdown",
      "source": [
        "**Data Collection**"
      ],
      "metadata": {
        "id": "O2z9wZX5aLA8"
      }
    },
    {
      "cell_type": "code",
      "source": [
        "from google.colab import drive\n",
        "drive.mount('/content/drive')"
      ],
      "metadata": {
        "colab": {
          "base_uri": "https://localhost:8080/"
        },
        "id": "HS9etwEPYTv3",
        "outputId": "4702386f-1f17-4585-ff8f-ed2fb5f0e2ca"
      },
      "execution_count": null,
      "outputs": [
        {
          "output_type": "stream",
          "name": "stdout",
          "text": [
            "Mounted at /content/drive\n"
          ]
        }
      ]
    },
    {
      "cell_type": "code",
      "source": [
        "!unzip '/content/drive/MyDrive/IBM/Dataset.zip'"
      ],
      "metadata": {
        "id": "YSi2DYIMY26x"
      },
      "execution_count": null,
      "outputs": []
    },
    {
      "cell_type": "markdown",
      "source": [
        "**Image Preprocessing**"
      ],
      "metadata": {
        "id": "9Ejayu_jfADD"
      }
    },
    {
      "cell_type": "markdown",
      "source": [
        "Import The ImageDataGenerator Library"
      ],
      "metadata": {
        "id": "HOivuJWkfIT2"
      }
    },
    {
      "cell_type": "code",
      "source": [
        "from keras.preprocessing.image import ImageDataGenerator"
      ],
      "metadata": {
        "id": "66dZTVV5fOfh"
      },
      "execution_count": 3,
      "outputs": []
    },
    {
      "cell_type": "markdown",
      "source": [
        "Configure ImageDataGenerator Class"
      ],
      "metadata": {
        "id": "F3KFZe6qfpgD"
      }
    },
    {
      "cell_type": "code",
      "source": [
        "train_datagen=ImageDataGenerator(rescale=1./255,shear_range=0.2,zoom_range=0.2,horizontal_flip=True)\n",
        "test_datagen = ImageDataGenerator(rescale=1./255)"
      ],
      "metadata": {
        "id": "CdV_ZZRlfqhV"
      },
      "execution_count": 4,
      "outputs": []
    },
    {
      "cell_type": "markdown",
      "source": [
        "Apply Image DataGenerator Functionality To Trainset And Testset"
      ],
      "metadata": {
        "id": "5vXIqPI5fyI_"
      }
    },
    {
      "cell_type": "code",
      "source": [
        "x_train = train_datagen.flow_from_directory(\n",
        "    '/content/drive/MyDrive/IBM/Dataset/TRAIN_SET',target_size=(64,64),batch_size=5,color_mode='rgb',class_mode='sparse')"
      ],
      "metadata": {
        "id": "hhiIGP6RgMEc"
      },
      "execution_count": null,
      "outputs": []
    },
    {
      "cell_type": "code",
      "source": [
        "x_test = train_datagen.flow_from_directory(\n",
        "    '/content/drive/MyDrive/IBM/Dataset/TEST_SET',target_size=(64,64),batch_size=5,color_mode='rgb',class_mode='sparse')"
      ],
      "metadata": {
        "id": "z7NxLLwWhOae"
      },
      "execution_count": null,
      "outputs": []
    },
    {
      "cell_type": "code",
      "source": [
        "print(x_train.class_indices)"
      ],
      "metadata": {
        "id": "W4jLA7RIk-Sf"
      },
      "execution_count": null,
      "outputs": []
    },
    {
      "cell_type": "code",
      "source": [
        "print(x_test.class_indices)"
      ],
      "metadata": {
        "id": "568PzBw_lACn"
      },
      "execution_count": null,
      "outputs": []
    },
    {
      "cell_type": "code",
      "source": [
        "from collections import Counter as c\n",
        "c(x_train .labels)"
      ],
      "metadata": {
        "id": "eQRQt_oOlCSn"
      },
      "execution_count": null,
      "outputs": []
    },
    {
      "cell_type": "markdown",
      "source": [
        "**Model Building**"
      ],
      "metadata": {
        "id": "1nYCHbQwloBE"
      }
    },
    {
      "cell_type": "markdown",
      "source": [
        "Importing The Model Building Libraries"
      ],
      "metadata": {
        "id": "IW-Y3K4fltDf"
      }
    },
    {
      "cell_type": "code",
      "source": [
        "import numpy as np\n",
        "import tensorflow as tf\n",
        "from tensorflow.keras.models import Sequential \n",
        "from tensorflow.keras import layers\n",
        "from tensorflow.keras.layers import Dense,Flatten\n",
        "from tensorflow.keras.layers import Conv2D,MaxPooling2D,Dropout"
      ],
      "metadata": {
        "id": "F4MqddmzmLg9"
      },
      "execution_count": 13,
      "outputs": []
    },
    {
      "cell_type": "markdown",
      "source": [
        "Initializing The Model\n"
      ],
      "metadata": {
        "id": "6C-4bn6elyL3"
      }
    },
    {
      "cell_type": "code",
      "source": [
        "model = Sequential()"
      ],
      "metadata": {
        "id": "o1WPW_J5mVky"
      },
      "execution_count": 14,
      "outputs": []
    },
    {
      "cell_type": "markdown",
      "source": [
        "Adding CNN Layers\n"
      ],
      "metadata": {
        "id": "iQeDsV8ql1fd"
      }
    },
    {
      "cell_type": "code",
      "source": [
        "# Initializing the CNN\n",
        "classifier = Sequential()\n",
        "\n",
        "# First convolution layer and pooling\n",
        "classifier.add(Conv2D(32, (3, 3), input_shape=(64, 64, 3), activation='relu'))\n",
        "classifier.add(MaxPooling2D(pool_size=(2, 2)))\n",
        "\n",
        "# Second convolution layer and pooling\n",
        "classifier.add(Conv2D(32, (3, 3), activation='relu'))\n",
        "\n",
        "# input_shape is going to be the pooled feature maps from the previous convolution layer\n",
        "classifier.add(MaxPooling2D(pool_size=(2, 2)))\n",
        "\n",
        "# Flattening the layers\n",
        "classifier.add(Flatten())"
      ],
      "metadata": {
        "id": "DjwW-scamX68"
      },
      "execution_count": 15,
      "outputs": []
    },
    {
      "cell_type": "markdown",
      "source": [
        "Adding Dense Layers\n"
      ],
      "metadata": {
        "id": "NV4U17yRl4OW"
      }
    },
    {
      "cell_type": "code",
      "source": [
        "classifier.add(Dense(units=128, activation='relu'))\n",
        "classifier.add(Dense(units=5, activation='softmax'))"
      ],
      "metadata": {
        "id": "Gkn0oarpmlqX"
      },
      "execution_count": 16,
      "outputs": []
    },
    {
      "cell_type": "code",
      "source": [
        "#summary of our model\n",
        "classifier.summary()"
      ],
      "metadata": {
        "colab": {
          "base_uri": "https://localhost:8080/"
        },
        "id": "chWXGtPemqwo",
        "outputId": "1d49d1f6-3c73-4d6c-dace-41b14c6b7717"
      },
      "execution_count": 17,
      "outputs": [
        {
          "output_type": "stream",
          "name": "stdout",
          "text": [
            "Model: \"sequential_1\"\n",
            "_________________________________________________________________\n",
            " Layer (type)                Output Shape              Param #   \n",
            "=================================================================\n",
            " conv2d (Conv2D)             (None, 62, 62, 32)        896       \n",
            "                                                                 \n",
            " max_pooling2d (MaxPooling2D  (None, 31, 31, 32)       0         \n",
            " )                                                               \n",
            "                                                                 \n",
            " conv2d_1 (Conv2D)           (None, 29, 29, 32)        9248      \n",
            "                                                                 \n",
            " max_pooling2d_1 (MaxPooling  (None, 14, 14, 32)       0         \n",
            " 2D)                                                             \n",
            "                                                                 \n",
            " flatten (Flatten)           (None, 6272)              0         \n",
            "                                                                 \n",
            " dense (Dense)               (None, 128)               802944    \n",
            "                                                                 \n",
            " dense_1 (Dense)             (None, 5)                 645       \n",
            "                                                                 \n",
            "=================================================================\n",
            "Total params: 813,733\n",
            "Trainable params: 813,733\n",
            "Non-trainable params: 0\n",
            "_________________________________________________________________\n"
          ]
        }
      ]
    },
    {
      "cell_type": "markdown",
      "source": [
        "Configure The Learning Process\n"
      ],
      "metadata": {
        "id": "ExYkF_6-l6RH"
      }
    },
    {
      "cell_type": "code",
      "source": [
        "# Compiling the CNN\n",
        "# categorical_crossentropy for more than 2\n",
        "classifier.compile(optimizer='adam', loss='sparse_categorical_crossentropy', metrics=['accuracy'])"
      ],
      "metadata": {
        "id": "6HR-jdA5mn0W"
      },
      "execution_count": 19,
      "outputs": []
    },
    {
      "cell_type": "markdown",
      "source": [
        "Train The Model\n"
      ],
      "metadata": {
        "id": "PtNY4Gkvl8ZX"
      }
    },
    {
      "cell_type": "code",
      "source": [
        "#Fitting the model\n",
        "classifier.fit_generator(generator=x_train,steps_per_epoch = len(x_train),epochs=20, validation_data=x_test,validation_steps = len(x_test))"
      ],
      "metadata": {
        "colab": {
          "base_uri": "https://localhost:8080/"
        },
        "id": "ZAUHDYQlnBAj",
        "outputId": "719d1bad-3113-4ec1-a3e8-59061546d6e0"
      },
      "execution_count": 21,
      "outputs": [
        {
          "output_type": "stream",
          "name": "stderr",
          "text": [
            "/usr/local/lib/python3.7/dist-packages/ipykernel_launcher.py:2: UserWarning: `Model.fit_generator` is deprecated and will be removed in a future version. Please use `Model.fit`, which supports generators.\n",
            "  \n"
          ]
        },
        {
          "output_type": "stream",
          "name": "stdout",
          "text": [
            "Epoch 1/20\n",
            "439/439 [==============================] - 686s 2s/step - loss: 0.1636 - accuracy: 0.9503 - val_loss: 0.1010 - val_accuracy: 0.9611\n",
            "Epoch 2/20\n",
            "439/439 [==============================] - 26s 59ms/step - loss: 0.0031 - accuracy: 0.9991 - val_loss: 0.0792 - val_accuracy: 0.9782\n",
            "Epoch 3/20\n",
            "439/439 [==============================] - 24s 55ms/step - loss: 0.0165 - accuracy: 0.9973 - val_loss: 0.0387 - val_accuracy: 0.9810\n",
            "Epoch 4/20\n",
            "439/439 [==============================] - 27s 60ms/step - loss: 3.4150e-04 - accuracy: 1.0000 - val_loss: 0.0597 - val_accuracy: 0.9782\n",
            "Epoch 5/20\n",
            "439/439 [==============================] - 27s 60ms/step - loss: 8.2750e-05 - accuracy: 1.0000 - val_loss: 0.0574 - val_accuracy: 0.9810\n",
            "Epoch 6/20\n",
            "439/439 [==============================] - 24s 55ms/step - loss: 3.7771e-05 - accuracy: 1.0000 - val_loss: 0.0439 - val_accuracy: 0.9801\n",
            "Epoch 7/20\n",
            "439/439 [==============================] - 25s 56ms/step - loss: 4.3764e-05 - accuracy: 1.0000 - val_loss: 0.0308 - val_accuracy: 0.9839\n",
            "Epoch 8/20\n",
            "439/439 [==============================] - 29s 65ms/step - loss: 3.1159e-05 - accuracy: 1.0000 - val_loss: 0.0541 - val_accuracy: 0.9791\n",
            "Epoch 9/20\n",
            "439/439 [==============================] - 26s 60ms/step - loss: 9.2757e-06 - accuracy: 1.0000 - val_loss: 0.0515 - val_accuracy: 0.9791\n",
            "Epoch 10/20\n",
            "439/439 [==============================] - 25s 57ms/step - loss: 5.9257e-06 - accuracy: 1.0000 - val_loss: 0.0615 - val_accuracy: 0.9810\n",
            "Epoch 11/20\n",
            "439/439 [==============================] - 25s 56ms/step - loss: 1.3235e-05 - accuracy: 1.0000 - val_loss: 0.0784 - val_accuracy: 0.9791\n",
            "Epoch 12/20\n",
            "439/439 [==============================] - 26s 60ms/step - loss: 7.8840e-06 - accuracy: 1.0000 - val_loss: 0.0458 - val_accuracy: 0.9801\n",
            "Epoch 13/20\n",
            "439/439 [==============================] - 29s 65ms/step - loss: 2.2996e-06 - accuracy: 1.0000 - val_loss: 0.0667 - val_accuracy: 0.9801\n",
            "Epoch 14/20\n",
            "439/439 [==============================] - 26s 60ms/step - loss: 3.4153e-06 - accuracy: 1.0000 - val_loss: 0.0669 - val_accuracy: 0.9782\n",
            "Epoch 15/20\n",
            "439/439 [==============================] - 26s 59ms/step - loss: 1.8679e-06 - accuracy: 1.0000 - val_loss: 0.0635 - val_accuracy: 0.9801\n",
            "Epoch 16/20\n",
            "439/439 [==============================] - 24s 55ms/step - loss: 1.7843e-06 - accuracy: 1.0000 - val_loss: 0.0581 - val_accuracy: 0.9810\n",
            "Epoch 17/20\n",
            "439/439 [==============================] - 24s 54ms/step - loss: 1.3680e-06 - accuracy: 1.0000 - val_loss: 0.0793 - val_accuracy: 0.9782\n",
            "Epoch 18/20\n",
            "439/439 [==============================] - 28s 64ms/step - loss: 8.5826e-07 - accuracy: 1.0000 - val_loss: 0.0624 - val_accuracy: 0.9801\n",
            "Epoch 19/20\n",
            "439/439 [==============================] - 25s 58ms/step - loss: 2.1928e-06 - accuracy: 1.0000 - val_loss: 0.0625 - val_accuracy: 0.9791\n",
            "Epoch 20/20\n",
            "439/439 [==============================] - 25s 57ms/step - loss: 7.2714e-07 - accuracy: 1.0000 - val_loss: 0.0838 - val_accuracy: 0.9782\n"
          ]
        },
        {
          "output_type": "execute_result",
          "data": {
            "text/plain": [
              "<keras.callbacks.History at 0x7f71c6f96ed0>"
            ]
          },
          "metadata": {},
          "execution_count": 21
        }
      ]
    },
    {
      "cell_type": "markdown",
      "source": [
        "Save The Model\n"
      ],
      "metadata": {
        "id": "MNbK_8R5l_fO"
      }
    },
    {
      "cell_type": "code",
      "source": [
        "classifier.save('/content/drive/MyDrive/IBM/Flask/templates/nutrition.h5')"
      ],
      "metadata": {
        "id": "j9djiSPln9LT"
      },
      "execution_count": 24,
      "outputs": []
    },
    {
      "cell_type": "markdown",
      "source": [
        "Test The Model\n"
      ],
      "metadata": {
        "id": "wre1f__dmBOV"
      }
    },
    {
      "cell_type": "code",
      "source": [
        "#Predict the results\n",
        "from tensorflow.keras.models import load_model\n",
        "from keras.preprocessing import image\n",
        "model = load_model(\"/content/drive/MyDrive/IBM/Flask/templates/nutrition.h5\")"
      ],
      "metadata": {
        "id": "5l4jGAWjuDte"
      },
      "execution_count": 25,
      "outputs": []
    },
    {
      "cell_type": "code",
      "source": [
        "from tensorflow.keras.utils import img_to_array\n",
        "from tensorflow.keras.utils import load_img\n",
        "#loading of the image\n",
        "img = load_img(r'/content/drive/MyDrive/IBM/Flask/Sample_Images/watermelon1.png',grayscale=False,target_size= (64,64))\n",
        "#image to array\n",
        "x = img_to_array(img)\n",
        "#changing the shape\n",
        "x = np.expand_dims(x,axis = 0)\n",
        "predict_x=model.predict(x) \n",
        "classes_x=np.argmax(predict_x,axis=-1)\n",
        "classes_x"
      ],
      "metadata": {
        "colab": {
          "base_uri": "https://localhost:8080/"
        },
        "id": "kwu8rpA0uT2z",
        "outputId": "ef897d65-5201-4878-d223-2aeb0b68beea"
      },
      "execution_count": 27,
      "outputs": [
        {
          "output_type": "stream",
          "name": "stdout",
          "text": [
            "1/1 [==============================] - 0s 102ms/step\n"
          ]
        },
        {
          "output_type": "execute_result",
          "data": {
            "text/plain": [
              "array([4])"
            ]
          },
          "metadata": {},
          "execution_count": 27
        }
      ]
    },
    {
      "cell_type": "code",
      "source": [
        "index=['APPLES', 'BANANA', 'ORANGE','PINEAPPLE','WATERMELON']\n",
        "result=str(index[classes_x[0]])\n",
        "result"
      ],
      "metadata": {
        "colab": {
          "base_uri": "https://localhost:8080/",
          "height": 36
        },
        "id": "InWi7EwBxwx4",
        "outputId": "0329b58f-d3aa-4869-89f5-805e69973395"
      },
      "execution_count": 28,
      "outputs": [
        {
          "output_type": "execute_result",
          "data": {
            "text/plain": [
              "'WATERMELON'"
            ],
            "application/vnd.google.colaboratory.intrinsic+json": {
              "type": "string"
            }
          },
          "metadata": {},
          "execution_count": 28
        }
      ]
    }
  ]
}